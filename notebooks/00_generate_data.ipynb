{
 "cells": [
  {
   "cell_type": "code",
   "execution_count": 1,
   "id": "b51f0239-4766-41e9-80b4-116b177feb32",
   "metadata": {},
   "outputs": [],
   "source": [
    "import json\n",
    "import random\n",
    "import csv\n",
    "from typing import List, Union"
   ]
  },
  {
   "cell_type": "code",
   "execution_count": 2,
   "id": "7dddf3f4-b0d9-41cc-8c92-56ac589de317",
   "metadata": {},
   "outputs": [],
   "source": [
    "def generate_data(num_rows: int, output_file: str) -> None:\n",
    "    \"\"\"\n",
    "    Generate JSON data with random names, ages, and offices.\n",
    "\n",
    "    :param num_rows: Number of rows to generate.\n",
    "    :type num_rows: int\n",
    "    :param output_file: Output file name.\n",
    "    :type output_file: str\n",
    "    \"\"\"\n",
    "    data = []\n",
    "    cities = [\"New York\", \"Los Angeles\", \"Chicago\", \"Houston\", \"Phoenix\", \"Philadelphia\", \"San Antonio\", \"San Diego\", \"Dallas\", \"San Jose\"]\n",
    "    names = [\"Alberto\", \"Jesus\", \"David\", \"Juan\"]\n",
    "\n",
    "    for _ in range(num_rows):\n",
    "        person = {}\n",
    "        person[\"name\"] = random.choice(names) # Random name\n",
    "        person[\"age\"] = random.choice([random.randint(18, 50), None])  # Random age or None\n",
    "        person[\"office\"] = random.choice([random.choice(cities), \"\"])  # Random city or None\n",
    "        data.append(person)\n",
    "\n",
    "    with open(output_file, 'w') as f:\n",
    "        json.dump(data, f)"
   ]
  },
  {
   "cell_type": "code",
   "execution_count": 3,
   "id": "11fe6c7b-c196-429a-9667-6c54e7ec2fd2",
   "metadata": {},
   "outputs": [],
   "source": [
    "generate_data(30, \"inputfile1.json\")"
   ]
  },
  {
   "cell_type": "code",
   "execution_count": 10,
   "id": "33ea7cff-a8a6-40b9-bff7-ff56fbd15b94",
   "metadata": {},
   "outputs": [],
   "source": [
    "def generate_data_csv(num_rows: int, output_file: str) -> None:\n",
    "    \"\"\"\n",
    "    Generate CSV data with random names, ages, and offices.\n",
    "\n",
    "    :param num_rows: Number of rows to generate.\n",
    "    :type num_rows: int\n",
    "    :param output_file: Output file name.\n",
    "    :type output_file: str\n",
    "    \"\"\"\n",
    "    data = []\n",
    "    cities = [\"New York\", \"Los Angeles\", \"Chicago\", \"Houston\", \"Phoenix\", \"Philadelphia\", \"San Antonio\", \"San Diego\", \"Dallas\", \"San Jose\"]\n",
    "    names = [\"Alberto\", \"Jesus\", \"David\", \"Juan\"]\n",
    "\n",
    "    with open(output_file, 'w', newline='') as csvfile:\n",
    "        fieldnames = ['name', 'age', 'office']\n",
    "        writer = csv.DictWriter(csvfile, fieldnames=fieldnames)\n",
    "        \n",
    "        writer.writeheader()\n",
    "        for _ in range(num_rows):\n",
    "            person = {}\n",
    "            person[\"name\"] = random.choice(names) # Random name\n",
    "            person[\"age\"] = random.choice([random.randint(18, 50), None])  # Random age or None\n",
    "            person[\"office\"] = random.choice([random.choice(cities), None])  # Random city or None\n",
    "            writer.writerow(person)\n"
   ]
  },
  {
   "cell_type": "code",
   "execution_count": 13,
   "id": "8f8c1ea3-ac7c-4ee6-9f60-81daaa4dbdca",
   "metadata": {},
   "outputs": [],
   "source": [
    "generate_data_csv(10, \"output_file2.csv\")"
   ]
  },
  {
   "cell_type": "code",
   "execution_count": null,
   "id": "cafe3b30-267f-49a7-9da0-69f5a240670d",
   "metadata": {},
   "outputs": [],
   "source": []
  }
 ],
 "metadata": {
  "kernelspec": {
   "display_name": "Python 3 (ipykernel)",
   "language": "python",
   "name": "python3"
  },
  "language_info": {
   "codemirror_mode": {
    "name": "ipython",
    "version": 3
   },
   "file_extension": ".py",
   "mimetype": "text/x-python",
   "name": "python",
   "nbconvert_exporter": "python",
   "pygments_lexer": "ipython3",
   "version": "3.9.19"
  }
 },
 "nbformat": 4,
 "nbformat_minor": 5
}
