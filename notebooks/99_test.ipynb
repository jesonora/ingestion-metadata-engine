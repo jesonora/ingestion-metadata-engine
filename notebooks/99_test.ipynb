{
 "cells": [
  {
   "cell_type": "code",
   "execution_count": 1,
   "id": "b5d283d3-0cf7-46b5-b1ad-e0fb49396e95",
   "metadata": {},
   "outputs": [],
   "source": [
    "import ast\n",
    "\n",
    "# Provided string\n",
    "data_string = \"{'sources': ({'name': 'person_inputs', 'params': {'path': 'output_file1.json', 'format': 'JSON'}},), 'transformations': ({'name': 'validation', 'type': 'validate_fields', 'params': {'input': 'person_inputs', 'steps': ({'field': 'office', 'validations': ('notEmpty',)}, {'field': 'age', 'validations': ('notNull',)}), 'outputs': {'output_ok': 'validation_ok', 'output_notok': 'validation_notok'}}}, {'name': 'ok_with_date', 'type': 'add_fields', 'params': {'input': 'validation_ok', 'steps': ({'name': 'dt', 'function': 'current_timestamp'}, {'name': 'dt2', 'function': 'current_timestamp'}), 'outputs': {'output': 'final_ok'}}}), 'outputs': ({'input': 'final_ok', 'name': 'raw-ok', 'params': {'path': 'raw-ok.json', 'format': 'JSON', 'mode': 'overwrite'}}, {'input': 'validation_notok', 'name': 'raw-notok', 'params': {'path': 'raw-notok.json', 'format': 'JSON', 'mode': 'overwrite'}})}\"\n",
    "\n",
    "# Convert string to Python dictionary\n",
    "data_dict = ast.literal_eval(data_string)"
   ]
  },
  {
   "cell_type": "code",
   "execution_count": 2,
   "id": "5025fe48-8fc6-4d31-a593-1e86469d0cc4",
   "metadata": {},
   "outputs": [
    {
     "data": {
      "text/plain": [
       "{'sources': ({'name': 'person_inputs',\n",
       "   'params': {'path': 'output_file1.json', 'format': 'JSON'}},),\n",
       " 'transformations': ({'name': 'validation',\n",
       "   'type': 'validate_fields',\n",
       "   'params': {'input': 'person_inputs',\n",
       "    'steps': ({'field': 'office', 'validations': ('notEmpty',)},\n",
       "     {'field': 'age', 'validations': ('notNull',)}),\n",
       "    'outputs': {'output_ok': 'validation_ok',\n",
       "     'output_notok': 'validation_notok'}}},\n",
       "  {'name': 'ok_with_date',\n",
       "   'type': 'add_fields',\n",
       "   'params': {'input': 'validation_ok',\n",
       "    'steps': ({'name': 'dt', 'function': 'current_timestamp'},\n",
       "     {'name': 'dt2', 'function': 'current_timestamp'}),\n",
       "    'outputs': {'output': 'final_ok'}}}),\n",
       " 'outputs': ({'input': 'final_ok',\n",
       "   'name': 'raw-ok',\n",
       "   'params': {'path': 'raw-ok.json', 'format': 'JSON', 'mode': 'overwrite'}},\n",
       "  {'input': 'validation_notok',\n",
       "   'name': 'raw-notok',\n",
       "   'params': {'path': 'raw-notok.json',\n",
       "    'format': 'JSON',\n",
       "    'mode': 'overwrite'}})}"
      ]
     },
     "execution_count": 2,
     "metadata": {},
     "output_type": "execute_result"
    }
   ],
   "source": [
    "data_dict"
   ]
  },
  {
   "cell_type": "code",
   "execution_count": null,
   "id": "8852413f-8395-47c9-ab1c-2605760ba64d",
   "metadata": {},
   "outputs": [],
   "source": []
  }
 ],
 "metadata": {
  "kernelspec": {
   "display_name": "Python 3 (ipykernel)",
   "language": "python",
   "name": "python3"
  },
  "language_info": {
   "codemirror_mode": {
    "name": "ipython",
    "version": 3
   },
   "file_extension": ".py",
   "mimetype": "text/x-python",
   "name": "python",
   "nbconvert_exporter": "python",
   "pygments_lexer": "ipython3",
   "version": "3.9.2"
  }
 },
 "nbformat": 4,
 "nbformat_minor": 5
}
